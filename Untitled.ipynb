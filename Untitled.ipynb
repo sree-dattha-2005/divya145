{
 "cells": [
  {
   "cell_type": "code",
   "execution_count": 5,
   "id": "fc4d6983-0514-4d98-a4db-8f3c9518f231",
   "metadata": {},
   "outputs": [
    {
     "name": "stdout",
     "output_type": "stream",
     "text": [
      "The largest number between 10 , 14 and 12 is 14\n"
     ]
    }
   ],
   "source": [
    "num1=10\n",
    "num2=14\n",
    "num3=12\n",
    "#num1=float(input(\"Enter first number:\"))\n",
    "#num2=float(input(\"Enter second number:\"))\n",
    "#num3=float(input(\"Enter third number:\"))\n",
    "if(num1>=num2)and(num1>=num3):\n",
    "    largest=num1\n",
    "elif(num2>=num1)and(num2>=num3):\n",
    "    largest=num2\n",
    "else:largest=num3\n",
    "print(\"The largest number between\",num1,\",\",num2,\"and\",num3,\"is\",largest)"
   ]
  },
  {
   "cell_type": "code",
   "execution_count": 6,
   "id": "f5f9c13b-2dc6-4aa0-a11b-69296c694170",
   "metadata": {},
   "outputs": [
    {
     "name": "stdout",
     "output_type": "stream",
     "text": [
      "x+y= 19\n",
      "x-y= 11\n",
      "x*y= 60\n",
      "x/y= 3.75\n",
      "x//y 3\n",
      "x**y 50625\n"
     ]
    }
   ],
   "source": [
    "x=15\n",
    "y=4\n",
    "print('x+y=',x+y)\n",
    "print('x-y=',x-y)\n",
    "print('x*y=',x*y)\n",
    "print('x/y=',x/y)\n",
    "print('x//y',x//y)\n",
    "print('x**y',x**y)\n"
   ]
  },
  {
   "cell_type": "code",
   "execution_count": 7,
   "id": "d36c11c2-6209-476a-8ac5-123103c1f84e",
   "metadata": {},
   "outputs": [
    {
     "name": "stdout",
     "output_type": "stream",
     "text": [
      "hello\n",
      "hello\n",
      "hello\n",
      "hello welcome to the python world\n"
     ]
    }
   ],
   "source": [
    "my_string='hello'\n",
    "print(my_string)\n",
    "my_string=\"hello\"\n",
    "print(my_string)\n",
    "my_string=\"\"\"hello\"\"\"\n",
    "print(my_string)\n",
    "my_string='''hello welcome to the python world'''\n",
    "print(my_string)\n"
   ]
  },
  {
   "cell_type": "code",
   "execution_count": null,
   "id": "fcc61b2d-cb08-42df-a425-63a8b3e7ae8c",
   "metadata": {},
   "outputs": [],
   "source": [
    "a=5\n",
    "pint"
   ]
  }
 ],
 "metadata": {
  "kernelspec": {
   "display_name": "Python 3 (ipykernel)",
   "language": "python",
   "name": "python3"
  },
  "language_info": {
   "codemirror_mode": {
    "name": "ipython",
    "version": 3
   },
   "file_extension": ".py",
   "mimetype": "text/x-python",
   "name": "python",
   "nbconvert_exporter": "python",
   "pygments_lexer": "ipython3",
   "version": "3.11.4"
  }
 },
 "nbformat": 4,
 "nbformat_minor": 5
}
